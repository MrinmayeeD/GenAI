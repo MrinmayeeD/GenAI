{
  "nbformat": 4,
  "nbformat_minor": 0,
  "metadata": {
    "colab": {
      "provenance": []
    },
    "kernelspec": {
      "name": "python3",
      "display_name": "Python 3"
    },
    "language_info": {
      "name": "python"
    }
  },
  "cells": [
    {
      "cell_type": "code",
      "execution_count": null,
      "metadata": {
        "id": "0f1kZ52rVE-T"
      },
      "outputs": [],
      "source": [
        "import random\n",
        "from collections import defaultdict"
      ]
    },
    {
      "cell_type": "code",
      "source": [
        "class MarkovChain:\n",
        "    def __init__(self):\n",
        "        self.chain = defaultdict(list)\n",
        "\n",
        "    def train(self, text, n=1):\n",
        "        \"\"\"Train the Markov Chain using n-word sequences as keys.\"\"\"\n",
        "        words = text.split()\n",
        "        for i in range(len(words) - n):\n",
        "            key = tuple(words[i:i+n])  # n-word sequence as key\n",
        "            next_word = words[i+n]  # next word to predict\n",
        "            self.chain[key].append(next_word)\n",
        "\n",
        "    def generate_text(self, length=50, n=1):\n",
        "        \"\"\"Generate text based on the learned Markov Chain.\"\"\"\n",
        "        # Start with a random key\n",
        "        start_key = random.choice(list(self.chain.keys()))\n",
        "        generated_words = list(start_key)\n",
        "\n",
        "        for _ in range(length - n):\n",
        "            current_key = tuple(generated_words[-n:])\n",
        "            next_words = self.chain.get(current_key)\n",
        "            if not next_words:\n",
        "                break  # No further word, stop generation\n",
        "            next_word = random.choice(next_words)\n",
        "            generated_words.append(next_word)\n",
        "\n",
        "        return ' '.join(generated_words)"
      ],
      "metadata": {
        "id": "M-naFd3mVIsa"
      },
      "execution_count": null,
      "outputs": []
    },
    {
      "cell_type": "code",
      "source": [
        "# Example usage:\n",
        "text = \"\"\"\n",
        "This is an example of a Markov Chain text generator. Markov Chains are mathematical systems that\n",
        "undergo transitions from one state to another on a state space. It generates text based on the\n",
        "probabilities of word transitions.\n",
        "\"\"\""
      ],
      "metadata": {
        "id": "qV1GiBJlVMho"
      },
      "execution_count": null,
      "outputs": []
    },
    {
      "cell_type": "code",
      "source": [
        "# Create the Markov Chain\n",
        "markov = MarkovChain()"
      ],
      "metadata": {
        "id": "4h5Eo_x7VPL-"
      },
      "execution_count": null,
      "outputs": []
    },
    {
      "cell_type": "code",
      "source": [
        "# Train the model with the input text\n",
        "markov.train(text, n=1)"
      ],
      "metadata": {
        "id": "FILJokD9VRYh"
      },
      "execution_count": null,
      "outputs": []
    },
    {
      "cell_type": "code",
      "source": [
        "# Generate text\n",
        "generated_text = markov.generate_text(length=50, n=1)\n",
        "print(generated_text)"
      ],
      "metadata": {
        "id": "VxUczMZoVg5W",
        "outputId": "15dff066-2ca9-4151-e5be-f70f26dd85bd",
        "colab": {
          "base_uri": "https://localhost:8080/"
        }
      },
      "execution_count": null,
      "outputs": [
        {
          "output_type": "stream",
          "name": "stdout",
          "text": [
            "mathematical systems that undergo transitions from one state space. It generates text generator. Markov Chains are mathematical systems that undergo transitions from one state to another on a Markov Chains are mathematical systems that undergo transitions from one state space. It generates text based on the probabilities of word transitions.\n"
          ]
        }
      ]
    }
  ]
}